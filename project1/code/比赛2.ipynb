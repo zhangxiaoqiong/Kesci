{
 "cells": [
  {
   "cell_type": "code",
   "execution_count": 2,
   "metadata": {},
   "outputs": [],
   "source": [
    "import pandas as pd\n",
    "import numpy as np\n",
    "import lightgbm as lgb\n",
    "import warnings\n",
    "from tqdm import tqdm\n",
    "%matplotlib inline\n",
    "from sklearn.preprocessing import LabelEncoder\n",
    "from scipy import sparse\n",
    "from sklearn.model_selection import StratifiedKFold\n",
    "warnings.filterwarnings(\"ignore\")"
   ]
  },
  {
   "cell_type": "code",
   "execution_count": 3,
   "metadata": {},
   "outputs": [
    {
     "name": "stdout",
     "output_type": "stream",
     "text": [
      "36169\n"
     ]
    },
    {
     "data": {
      "text/html": [
       "<div>\n",
       "<style scoped>\n",
       "    .dataframe tbody tr th:only-of-type {\n",
       "        vertical-align: middle;\n",
       "    }\n",
       "\n",
       "    .dataframe tbody tr th {\n",
       "        vertical-align: top;\n",
       "    }\n",
       "\n",
       "    .dataframe thead th {\n",
       "        text-align: right;\n",
       "    }\n",
       "</style>\n",
       "<table border=\"1\" class=\"dataframe\">\n",
       "  <thead>\n",
       "    <tr style=\"text-align: right;\">\n",
       "      <th></th>\n",
       "      <th>ID</th>\n",
       "      <th>age</th>\n",
       "      <th>balance</th>\n",
       "      <th>campaign</th>\n",
       "      <th>contact</th>\n",
       "      <th>day</th>\n",
       "      <th>default</th>\n",
       "      <th>duration</th>\n",
       "      <th>education</th>\n",
       "      <th>housing</th>\n",
       "      <th>job</th>\n",
       "      <th>loan</th>\n",
       "      <th>marital</th>\n",
       "      <th>month</th>\n",
       "      <th>pdays</th>\n",
       "      <th>poutcome</th>\n",
       "      <th>previous</th>\n",
       "      <th>y</th>\n",
       "    </tr>\n",
       "  </thead>\n",
       "  <tbody>\n",
       "    <tr>\n",
       "      <th>0</th>\n",
       "      <td>1</td>\n",
       "      <td>43</td>\n",
       "      <td>291</td>\n",
       "      <td>2</td>\n",
       "      <td>unknown</td>\n",
       "      <td>9</td>\n",
       "      <td>no</td>\n",
       "      <td>150</td>\n",
       "      <td>tertiary</td>\n",
       "      <td>yes</td>\n",
       "      <td>management</td>\n",
       "      <td>no</td>\n",
       "      <td>married</td>\n",
       "      <td>may</td>\n",
       "      <td>-1</td>\n",
       "      <td>unknown</td>\n",
       "      <td>0</td>\n",
       "      <td>0.0</td>\n",
       "    </tr>\n",
       "    <tr>\n",
       "      <th>1</th>\n",
       "      <td>2</td>\n",
       "      <td>42</td>\n",
       "      <td>5076</td>\n",
       "      <td>1</td>\n",
       "      <td>cellular</td>\n",
       "      <td>7</td>\n",
       "      <td>no</td>\n",
       "      <td>99</td>\n",
       "      <td>primary</td>\n",
       "      <td>yes</td>\n",
       "      <td>technician</td>\n",
       "      <td>no</td>\n",
       "      <td>divorced</td>\n",
       "      <td>apr</td>\n",
       "      <td>251</td>\n",
       "      <td>other</td>\n",
       "      <td>2</td>\n",
       "      <td>0.0</td>\n",
       "    </tr>\n",
       "    <tr>\n",
       "      <th>2</th>\n",
       "      <td>3</td>\n",
       "      <td>47</td>\n",
       "      <td>104</td>\n",
       "      <td>2</td>\n",
       "      <td>cellular</td>\n",
       "      <td>14</td>\n",
       "      <td>no</td>\n",
       "      <td>77</td>\n",
       "      <td>secondary</td>\n",
       "      <td>yes</td>\n",
       "      <td>admin.</td>\n",
       "      <td>yes</td>\n",
       "      <td>married</td>\n",
       "      <td>jul</td>\n",
       "      <td>-1</td>\n",
       "      <td>unknown</td>\n",
       "      <td>0</td>\n",
       "      <td>0.0</td>\n",
       "    </tr>\n",
       "  </tbody>\n",
       "</table>\n",
       "</div>"
      ],
      "text/plain": [
       "   ID  age  balance  campaign   contact  day default  duration  education  \\\n",
       "0   1   43      291         2   unknown    9      no       150   tertiary   \n",
       "1   2   42     5076         1  cellular    7      no        99    primary   \n",
       "2   3   47      104         2  cellular   14      no        77  secondary   \n",
       "\n",
       "  housing         job loan   marital month  pdays poutcome  previous    y  \n",
       "0     yes  management   no   married   may     -1  unknown         0  0.0  \n",
       "1     yes  technician   no  divorced   apr    251    other         2  0.0  \n",
       "2     yes      admin.  yes   married   jul     -1  unknown         0  0.0  "
      ]
     },
     "execution_count": 3,
     "metadata": {},
     "output_type": "execute_result"
    }
   ],
   "source": [
    "# 数据准备\n",
    "train = pd.read_csv('../data/train_set.csv')\n",
    "test = pd.read_csv('../data/test_set.csv')\n",
    "\n",
    "data = pd.concat([train,test])\n",
    "print(data.shape[0])\n",
    "data.head(3)"
   ]
  },
  {
   "cell_type": "code",
   "execution_count": 4,
   "metadata": {},
   "outputs": [
    {
     "data": {
      "text/plain": [
       "(22356, 2961)"
      ]
     },
     "execution_count": 4,
     "metadata": {},
     "output_type": "execute_result"
    }
   ],
   "source": [
    "# 查看正负样本情况\n",
    "train[train['y']==0].shape[0],train[train['y']==1].shape[0]"
   ]
  },
  {
   "cell_type": "markdown",
   "metadata": {},
   "source": [
    "# 特征工程"
   ]
  },
  {
   "cell_type": "code",
   "execution_count": 10,
   "metadata": {},
   "outputs": [
    {
     "data": {
      "text/plain": [
       "['age',\n",
       " 'balance',\n",
       " 'campaign',\n",
       " 'contact',\n",
       " 'day',\n",
       " 'default',\n",
       " 'duration',\n",
       " 'education',\n",
       " 'housing',\n",
       " 'job',\n",
       " 'loan',\n",
       " 'marital',\n",
       " 'month',\n",
       " 'pdays',\n",
       " 'poutcome',\n",
       " 'previous']"
      ]
     },
     "execution_count": 10,
     "metadata": {},
     "output_type": "execute_result"
    }
   ],
   "source": [
    "## 特征提取\n",
    "feature = data.columns.tolist()\n",
    "feature.remove('ID')\n",
    "feature.remove('y')\n",
    "feature"
   ]
  },
  {
   "cell_type": "code",
   "execution_count": 12,
   "metadata": {},
   "outputs": [
    {
     "data": {
      "text/plain": [
       "array([43, 42, 47, 28, 56, 32, 33, 55, 54, 59, 48, 53, 30, 39, 31, 49, 25,\n",
       "       44, 38, 35, 40, 29, 41, 57, 27, 46, 50, 36, 61, 21, 24, 26, 37, 45,\n",
       "       51, 52, 34, 58, 74, 60, 22, 23, 79, 80, 75, 66, 20, 81, 71, 69, 83,\n",
       "       73, 72, 78, 65, 70, 63, 67, 19, 64, 89, 77, 62, 85, 76, 68, 82, 86,\n",
       "       84, 18, 87, 95, 92, 90, 93, 94, 88], dtype=int64)"
      ]
     },
     "execution_count": 12,
     "metadata": {},
     "output_type": "execute_result"
    }
   ],
   "source": [
    "data['age'].unique()"
   ]
  },
  {
   "cell_type": "code",
   "execution_count": null,
   "metadata": {},
   "outputs": [],
   "source": [
    "sparse_feature = ['campaign','contact','default','education','housing','job','loan','marital','month','poutcome']\n",
    "dense_feature = list(set(feature)-set(sparse_feature))"
   ]
  },
  {
   "cell_type": "code",
   "execution_count": null,
   "metadata": {},
   "outputs": [],
   "source": []
  },
  {
   "cell_type": "code",
   "execution_count": null,
   "metadata": {},
   "outputs": [],
   "source": [
    "def feature_count(data, features):\n",
    "    feature_name = 'count'\n",
    "    for i in features:\n",
    "        feature_name += '_' + i\n",
    "    temp = data.groupby(features).size().reset_index().rename(columns={0: feature_name})\n",
    "    data = data.merge(temp, 'left', on=features)\n",
    "    return data,feature_name\n",
    "\n",
    "\n",
    "\n",
    "ll = []\n",
    "for f in ['campaign', 'contact','default','education','housing','job','loan','marital','poutcome']:\n",
    "    data,_ = feature_count(data,['day','month',f])\n",
    "    ll.append(_)\n",
    "    \n",
    "def get_new_columns(name,aggs):\n",
    "    l = []\n",
    "    for k in aggs.keys():\n",
    "        for agg in aggs[k]:\n",
    "            if str(type(agg))==\"<class 'function'>\":\n",
    "                l.append(name + '_' + k + '_' + 'other')\n",
    "            else:\n",
    "                l.append(name + '_' + k + '_' + agg)\n",
    "    return l\n",
    "\n",
    "for d in tqdm(sparse_feature):\n",
    "    aggs={}\n",
    "    for s in sparse_feature:\n",
    "        aggs[s]=['count','nunique']\n",
    "    for den in dense_feature:\n",
    "        aggs[den]=['mean','max','min','std']\n",
    "    aggs.pop(d)\n",
    "    temp = data.groupby(d).agg(aggs).reset_index()\n",
    "    temp.columns = [d]+get_new_columns(d,aggs)\n",
    "    data = pd.merge(data,temp,on=d,how='left')\n",
    "    \n",
    "for s in ['contact','default','education','housing','job','loan','marital','month','poutcome']:\n",
    "    data = pd.concat([data,pd.get_dummies(data[s],prefix=s+'_')],axis=1)\n",
    "    data.drop(s,axis=1,inplace=True)\n"
   ]
  }
 ],
 "metadata": {
  "kernelspec": {
   "display_name": "Python 3",
   "language": "python",
   "name": "python3"
  },
  "language_info": {
   "codemirror_mode": {
    "name": "ipython",
    "version": 3
   },
   "file_extension": ".py",
   "mimetype": "text/x-python",
   "name": "python",
   "nbconvert_exporter": "python",
   "pygments_lexer": "ipython3",
   "version": "3.7.3"
  }
 },
 "nbformat": 4,
 "nbformat_minor": 2
}
